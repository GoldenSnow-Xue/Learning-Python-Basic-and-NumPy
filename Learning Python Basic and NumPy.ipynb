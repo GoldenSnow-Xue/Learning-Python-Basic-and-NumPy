{
 "cells": [
  {
   "cell_type": "markdown",
   "metadata": {},
   "source": [
    "# Homework 1\n",
    "\n",
    "## *Learning Python Basic and NumPy*\n",
    "\n",
    "---"
   ]
  },
  {
   "cell_type": "markdown",
   "metadata": {},
   "source": [
    "### Problem 1: Welcome (20 points)\n",
    "\n",
    "(a) Write a funbction below that takes as input a string containing a name in the \"Last_Name, First_Name\" format and prints a welcome message with the first name first and the last name last and tells the person the length of their first name. The function should be able to handle a wrong input and print a meassge:  *Input format error: please use \"Last_Name, First_Name\"*\n"
   ]
  },
  {
   "cell_type": "code",
   "execution_count": null,
   "metadata": {},
   "outputs": [],
   "source": [
    "name_str = input('Last_Name, First_Name: ')\n",
    "my_str = name_str.split(\",\")\n",
    "answer = len(my_str)\n",
    "if answer == 2:\n",
    "    first = my_str[1]\n",
    "    last = my_str[0]\n",
    "    L = len(first.strip())\n",
    "    msg = first.title() +' '+ last.title() + ' '+'and your first name is ' + str(L) + ' letters in length' \n",
    "else:\n",
    "    msg = \"Input format error: please use \\\"Last_Name, First_Name\\\"\"\n",
    "print(msg)"
   ]
  },
  {
   "cell_type": "markdown",
   "metadata": {},
   "source": [
    "(b) Test your function below by calling function with following examples:\n",
    "\n",
    "- \"Hamilton, Alexander\" should return Alexander Hamilton your first name is 9 letters in length\n",
    "- \"Kennedy, John\" should return John Kennedy your first name is 4 letters in length\n",
    "- \" &nbsp;  Obama, &nbsp;   Barack &nbsp;  \" should return Barack Obama your first name is 6 letters in length\n",
    "\n",
    "Note that the extra spaces in the third name must be removed\n"
   ]
  },
  {
   "cell_type": "code",
   "execution_count": null,
   "metadata": {},
   "outputs": [],
   "source": [
    "welcome(\"Hamilton, Alexander\")\n",
    "welcome(\"Kennedy, John\")\n",
    "welcome(\"  Obama,   Barack   \")\n",
    "welcome(\"Ming Fang\")"
   ]
  },
  {
   "cell_type": "markdown",
   "metadata": {},
   "source": [
    "### Problem 2: Moving Average (40 points)\n",
    "\n",
    "(a) Write a function below that can compute the moving average of time series using a sliding window over an array. This function should take an array of date strings (say arr_date), an array of numbers (say arr_record), and a sliding window (default value 50). It should:\n",
    "\n",
    "- Return a list of dictionaries for all windows.\n",
    "- Each dictionary should include the date, average value, min, max, standard deviation at each window.\n",
    "- Able to handle missing data in time series by replacing missing data with the most recent available data.\n"
   ]
  },
  {
   "cell_type": "code",
   "execution_count": null,
   "metadata": {},
   "outputs": [],
   "source": [
    "import numpy as np\n",
    "\n",
    "def moving_avg(arr_date,arr_record, window = 50):\n",
    "    length = len(arr_date)\n",
    "    list_dic = []\n",
    "    if np.isnan(arr_record[0]):\n",
    "        finite = np.argwhere(np.isfinite(arr_record))\n",
    "        arr_record[0] = arr_record[finite[0,0]]\n",
    "        nan = np.argwhere(np.isnan(arr_record))\n",
    "        for i in range(len(nan)):\n",
    "            position = nan[i,0]\n",
    "            arr_record[position] = arr_record[position-1]\n",
    "        for i in range(window, len(arr_record) + 1):\n",
    "            my_data = arr_record[i-window:i]\n",
    "            print(len(my_data))\n",
    "            my_mean = my_data.mean()\n",
    "            my_std = my_data.std()\n",
    "            my_min = my_data.min()\n",
    "            my_max = my_data.max()\n",
    "            my_dict = {\"date\":arr_date[i],\"avg\":my_mean,\"std\":my_std,\"min\":my_min,\"max\":my_max}\n",
    "            list_dict.append(my_dict)\n",
    "            return list_dic"
   ]
  },
  {
   "cell_type": "markdown",
   "metadata": {},
   "source": [
    "(b) Download SPY daily data (Dec. 31, 2017 to Dec. 31, 2018) from Yahoo! as your test data in a .csv file. Read [reading .csv file example](https://janakiev.com/blog/csv-in-python/) and write a test programming for calling your function. "
   ]
  },
  {
   "cell_type": "code",
   "execution_count": null,
   "metadata": {},
   "outputs": [],
   "source": [
    "import csv\n",
    "import numpy as np\n",
    "\n",
    "file_path = 'C:/Users/Xue Jin/Documents/Fall 2019/FIN5615/'\n",
    "file_name = file_path + \"SPY.csv\"\n",
    "\n",
    "with open(file_name, 'r') as f_in:\n",
    "    reader = csv.reader(f_in, delimiter = ',')\n",
    "    header = next(reader)\n",
    "    data = list(reader)\n",
    "f_in.close()\n",
    "    \n",
    "N = len(data)\n",
    "date_arr = np.empty(N, dtype = object)\n",
    "price_arr = np.empty(N)\n",
    "i = 0\n",
    "\n",
    "for my_data in data:\n",
    "    date_arr[i] = my_data[0]\n",
    "    price_arr[i] = my_data[5]\n",
    "    i += 1\n",
    "\n",
    "# test case\n",
    "mv_avg = moving_avg(date_arr, price_arr)\n",
    "print(\"\\n Test case 1 when all price data are available:\")\n",
    "print(mv_avg[-1])\n",
    "print(mv_avg[100])\n",
    "print(mv_avg[0])\n",
    "\n",
    "# test case for the last element has nan value\n",
    "print(\"\\n Test case 2 when the last element has nan value:\")\n",
    "price_arr[-1] = np.nan\n",
    "mv_avg = moving_avg(date_arr, price_arr)\n",
    "print(mv_avg[-1])\n",
    "\n",
    "# test case for the first element has nan value\n",
    "print(\"\\n Test case 3 when the first element has nan value:\")\n",
    "price_arr[0] = np.nan\n",
    "mv_avg = moving_avg(date_arr, price_arr)\n",
    "print(mv_avg[0])\n",
    "\n",
    "# test case for 100th element has nan value\n",
    "print(\"\\n Test case 4 when 100th element has nan value:\")\n",
    "price_arr[100] = np.nan\n",
    "mv_avg = moving_avg(date_arr, price_arr)\n",
    "print(mv_avg[100])"
   ]
  },
  {
   "cell_type": "markdown",
   "metadata": {},
   "source": [
    "### Problem 3: Monte Carlo Simulation (40 points)\n",
    "\n",
    "Stock prices follow a log-normal process: $dS = S(\\mu dt + \\sigma dz)$, where $\\mu$ is a constant growth rate, $\\sigma$ is a constant volatility rate, $dt$ is time interveral (1 month = 1/12), and $dz$ is a normal distributed random variable with variance equal to $dt$.\n",
    "\n",
    "Start from a given $S_0$ (say, 100), we will have $S_t = S_{t-1}*(1+\\mu \\Delta t + \\sigma \\sqrt{\\Delta t} Z)$ for $t=1,2,...,N$, where $Z$ is a standard normal distributed variable. \n"
   ]
  },
  {
   "cell_type": "markdown",
   "metadata": {},
   "source": [
    "(a) Write a function below that returns a numPy array with $N+1$ stock prices following the algorithm described above given input: $N$, $\\mu$, $\\sigma$, $\\Delta t$ with default value 1 month ($ = 1/12$), and starting price $S_0$ with default value 100."
   ]
  },
  {
   "cell_type": "code",
   "execution_count": null,
   "metadata": {},
   "outputs": [],
   "source": [
    "import numpy as np\n",
    "\n",
    "def prices(n, m, s, seed = None, dt=1/12, p0=100):\n",
    "    np.random.seed(seed)\n",
    "    a = m*dt\n",
    "    b = s*sqrt(dt)\n",
    "    z = np.random.randn(n)\n",
    "    r = a+b*z\n",
    "    prices = np.empty(n+1)\n",
    "    p0 = prices[0]\n",
    "    prices[i] = prices[i-1]*(1+r[i-1])\n",
    "    return prices"
   ]
  },
  {
   "cell_type": "markdown",
   "metadata": {},
   "source": [
    "(b) Generate a sequence of 60 monthly stock prices by calling function created above with $\\mu = 6\\%, \\sigma = 10\\%$, $S_0 = 100$. Calculate 60 monthly returns based on this set of prices. Compute the annualized return and annualized standard deviation. "
   ]
  },
  {
   "cell_type": "code",
   "execution_count": null,
   "metadata": {},
   "outputs": [],
   "source": [
    "my_prices = prices(60, 0.06, 0.1, 0)\n",
    "p0 = my_prices[0:60]\n",
    "p1 = my_prices[1:61]\n",
    "r = (p1-p0)/p0\n",
    "print(r)"
   ]
  },
  {
   "cell_type": "markdown",
   "metadata": {},
   "source": [
    "(c) Similar to (b), use the function crated in (a) to generate 100 sample of return data. Calculate the min, max, mean, and standard deviation at each month end (60 months) below. What's your observation of your average monthly return for each month? How about increase the sample size to 1,000? 10,000?"
   ]
  },
  {
   "cell_type": "code",
   "execution_count": null,
   "metadata": {},
   "outputs": [],
   "source": [
    "n = 60\n",
    "k = 10000\n",
    "m = 0.06\n",
    "s = 0.1\n",
    "\n",
    "my_prices = np.empty((n+1,k))\n",
    "\n",
    "for j in range(k):\n",
    "    my_prices[:,j] = prices(n, m, s)\n",
    "    \n",
    "p0 = my_prices[0:n,:]\n",
    "p1 = my_prices[1:n+1,:]\n",
    "r2 = (p1-p0)/p0\n",
    "       \n",
    "r_min = r2.min(axis=1)\n",
    "r_max = r2.max(axis=1)\n",
    "r_mean = r2.mean(axis=1)\n",
    "r_std = r2.std(axis=1)\n",
    "\n",
    "print(\"The mean from the distribution should be: \" + str(m/12) + \"\\n\") # theoretic value of monthly volatility\n",
    "print(\"Our numerical results are: \\n\")\n",
    "print(r_mean)\n",
    "\n",
    "print(\"\\nThe volatility from the distribution should be: \" + str(s/np.sqrt(12)) + \"\\n\") # theoretic value of monthly volatility\n",
    "print(\"Our numerical results are: \\n\")\n",
    "print(r_std)"
   ]
  }
 ],
 "metadata": {
  "kernelspec": {
   "display_name": "Python 3",
   "language": "python",
   "name": "python3"
  },
  "language_info": {
   "codemirror_mode": {
    "name": "ipython",
    "version": 3
   },
   "file_extension": ".py",
   "mimetype": "text/x-python",
   "name": "python",
   "nbconvert_exporter": "python",
   "pygments_lexer": "ipython3",
   "version": "3.7.1"
  }
 },
 "nbformat": 4,
 "nbformat_minor": 2
}
